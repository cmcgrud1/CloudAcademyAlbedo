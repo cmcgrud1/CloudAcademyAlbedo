{
 "cells": [
  {
   "cell_type": "code",
   "execution_count": 2,
   "metadata": {
    "collapsed": true
   },
   "outputs": [],
   "source": [
    "import pandas as pd\n",
    "from bokeh.plotting import figure, show, output_file\n",
    "from bokeh.io import output_notebook \n",
    "import os\n",
    "from bokeh.palettes import Inferno11\n",
    "import numpy as np\n",
    "from bokeh.layouts import column\n",
    "import shutil\n",
    "import scipy.signal as scisig"
   ]
  },
  {
   "cell_type": "code",
   "execution_count": 4,
   "metadata": {},
   "outputs": [
    {
     "name": "stdout",
     "output_type": "stream",
     "text": [
      "Frodo_f=1_phang010.alb\n",
      "Frodo_f=1_phang170.alb\n",
      "Frodo_f=1_phang160.alb\n",
      "Frodo_f=1_phang000.alb\n",
      "Frodo_f=1_phang070.alb\n",
      "Frodo_f=1_phang110.alb\n",
      "Frodo_f=1_phang100.alb\n",
      "Frodo_f=1_phang060.alb\n",
      "Frodo_f=1_phang090.alb\n",
      "Frodo_f=1_phang130.alb\n",
      "Frodo_f=1_phang050.alb\n",
      "Frodo_f=1_phang040.alb\n",
      "Frodo_f=1_phang120.alb\n",
      "Frodo_f=1_phang080.alb\n",
      "Frodo_f=1_phang150.alb\n",
      "Frodo_f=1_phang030.alb\n",
      "Frodo_f=1_phang180.alb\n",
      "Frodo_f=1_phang020.alb\n",
      "Frodo_f=1_phang140.alb\n"
     ]
    }
   ],
   "source": [
    "p = np.linspace(0,180,19)\n",
    "dir = '/Users/natashabatalha/Documents/AlbedoCodeWC/laura/Frodo/albedo/f=1/' \n",
    "\n",
    "allf = []\n",
    "#for c in ['f=0.5','f=1','free-f=1']:\n",
    "ii=0\n",
    "fig=figure(y_axis_label='Albedo', x_axis_label='Wavelength (μm)',y_range=[0,1])\n",
    "\n",
    "\n",
    "for i in os.listdir(os.path.join(dir)):\n",
    "    print(i)\n",
    "    if i.find('phang') == -1:\n",
    "        continue\n",
    "    phang = i[i.find('_p')+6:i.find('.alb')]\n",
    "    legend = 'Phase = '+ phang\n",
    "    if np.mod(int(phang)+20,20)!=0: continue\n",
    "    a = pd.read_csv(os.path.join(dir,i),skiprows=2, header=1, delim_whitespace=True)\n",
    "    fig.line(a['WAVELN'], scisig.medfilt(a['GEOMALB'],kernel_size=5), color=Inferno11[ii], legend = legend)\n",
    "    ii +=1\n",
    "\n",
    "    fig.xaxis.axis_label_text_font_size = '16pt'\n",
    "    fig.xaxis.major_label_text_font_size = '12pt'\n",
    "    fig.yaxis.axis_label_text_font_size = '16pt'\n",
    "    fig.yaxis.major_label_text_font_size = '12pt'\n",
    "\n",
    "allf += [fig]\n",
    "output_file('albedo.html')\n",
    "    #show(fig)\n",
    "show(column(allf))"
   ]
  },
  {
   "cell_type": "code",
   "execution_count": 20,
   "metadata": {},
   "outputs": [
    {
     "name": "stdout",
     "output_type": "stream",
     "text": [
      "kepler7_forceP0.5e-4_t300_flux0.75_allForst_G/albedo\n",
      "albedo_phang020.alb\n",
      "albedo_phang140.alb\n",
      "albedo_phang180.alb\n",
      "albedo_phang150.alb\n",
      "albedo_phang030.alb\n",
      "albedo_phang080.alb\n",
      "albedo_phang040.alb\n",
      "albedo_phang120.alb\n",
      "albedo_phang130.alb\n",
      "albedo_phang050.alb\n",
      "albedo_phang090.alb\n",
      "albedo_phang100.alb\n",
      "albedo_phang060.alb\n",
      "albedo_phang070.alb\n",
      "albedo_phang110.alb\n",
      "albedo_phang160.alb\n",
      "albedo_phang000.alb\n",
      "albedo_phang010.alb\n",
      "albedo_phang170.alb\n"
     ]
    }
   ],
   "source": [
    "p = np.linspace(0,180,19)\n",
    "dir = '/Users/natashabatalha/Documents/EGP_51_Peg/run/results/' \n",
    "\n",
    "alb = {}\n",
    "#for c in ['f=0.5','f=1','free-f=1']:\n",
    "ii=0\n",
    "fig=figure(y_axis_label='Albedo', x_axis_label='Wavelength (μm)', title = 'fsed=0.5',y_range=[0,1])\n",
    "c='kepler7_forceP0.5e-4_t300_flux0.75_allForst_G/albedo'\n",
    "print(c)\n",
    "for i in os.listdir(os.path.join(dir,c)):\n",
    "    print(i)\n",
    "    if i.find('phang') == -1:\n",
    "        continue\n",
    "    phang = i[i.find('_p')+6:i.find('.alb')]\n",
    "    legend = 'Phase = '+ phang\n",
    "    a = pd.read_csv(os.path.join(dir,c,i),skiprows=2, header=1, delim_whitespace=True)\n",
    "\n",
    "    alb[str(phang)] = scisig.medfilt(a['GEOMALB'],kernel_size=5)\n",
    "alb['Wavelength'] = a['WAVELN']\n",
    "pd.DataFrame(alb).to_csv('51Peg_hacked_cloud.csv')"
   ]
  },
  {
   "cell_type": "code",
   "execution_count": null,
   "metadata": {
    "collapsed": true
   },
   "outputs": [],
   "source": []
  }
 ],
 "metadata": {
  "kernelspec": {
   "display_name": "Python 3",
   "language": "python",
   "name": "python3"
  },
  "language_info": {
   "codemirror_mode": {
    "name": "ipython",
    "version": 3
   },
   "file_extension": ".py",
   "mimetype": "text/x-python",
   "name": "python",
   "nbconvert_exporter": "python",
   "pygments_lexer": "ipython3",
   "version": "3.6.1"
  }
 },
 "nbformat": 4,
 "nbformat_minor": 2
}
